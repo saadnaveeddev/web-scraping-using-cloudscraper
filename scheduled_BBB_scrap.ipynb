{
 "cells": [
  {
   "cell_type": "code",
   "execution_count": null,
   "metadata": {},
   "outputs": [
    {
     "name": "stdout",
     "output_type": "stream",
     "text": [
      "Requirement already satisfied: apscheduler in /usr/local/lib/python3.11/dist-packages (3.11.0)\n",
      "Requirement already satisfied: cloudscraper in /usr/local/lib/python3.11/dist-packages (1.2.71)\n",
      "Requirement already satisfied: pandas in /usr/local/lib/python3.11/dist-packages (2.2.2)\n",
      "Requirement already satisfied: beautifulsoup4 in /usr/local/lib/python3.11/dist-packages (4.13.3)\n",
      "Requirement already satisfied: tzlocal>=3.0 in /usr/local/lib/python3.11/dist-packages (from apscheduler) (5.3)\n",
      "Requirement already satisfied: pyparsing>=2.4.7 in /usr/local/lib/python3.11/dist-packages (from cloudscraper) (3.2.1)\n",
      "Requirement already satisfied: requests>=2.9.2 in /usr/local/lib/python3.11/dist-packages (from cloudscraper) (2.32.3)\n",
      "Requirement already satisfied: requests-toolbelt>=0.9.1 in /usr/local/lib/python3.11/dist-packages (from cloudscraper) (1.0.0)\n",
      "Requirement already satisfied: numpy>=1.23.2 in /usr/local/lib/python3.11/dist-packages (from pandas) (1.26.4)\n",
      "Requirement already satisfied: python-dateutil>=2.8.2 in /usr/local/lib/python3.11/dist-packages (from pandas) (2.8.2)\n",
      "Requirement already satisfied: pytz>=2020.1 in /usr/local/lib/python3.11/dist-packages (from pandas) (2025.1)\n",
      "Requirement already satisfied: tzdata>=2022.7 in /usr/local/lib/python3.11/dist-packages (from pandas) (2025.1)\n",
      "Requirement already satisfied: soupsieve>1.2 in /usr/local/lib/python3.11/dist-packages (from beautifulsoup4) (2.6)\n",
      "Requirement already satisfied: typing-extensions>=4.0.0 in /usr/local/lib/python3.11/dist-packages (from beautifulsoup4) (4.12.2)\n",
      "Requirement already satisfied: six>=1.5 in /usr/local/lib/python3.11/dist-packages (from python-dateutil>=2.8.2->pandas) (1.17.0)\n",
      "Requirement already satisfied: charset-normalizer<4,>=2 in /usr/local/lib/python3.11/dist-packages (from requests>=2.9.2->cloudscraper) (3.4.1)\n",
      "Requirement already satisfied: idna<4,>=2.5 in /usr/local/lib/python3.11/dist-packages (from requests>=2.9.2->cloudscraper) (3.10)\n",
      "Requirement already satisfied: urllib3<3,>=1.21.1 in /usr/local/lib/python3.11/dist-packages (from requests>=2.9.2->cloudscraper) (2.3.0)\n",
      "Requirement already satisfied: certifi>=2017.4.17 in /usr/local/lib/python3.11/dist-packages (from requests>=2.9.2->cloudscraper) (2025.1.31)\n"
     ]
    }
   ],
   "source": [
    "pip install apscheduler cloudscraper pandas beautifulsoup4"
   ]
  },
  {
   "cell_type": "code",
   "execution_count": null,
   "metadata": {},
   "outputs": [
    {
     "name": "stderr",
     "output_type": "stream",
     "text": [
      "WARNING:tzlocal:/etc/timezone is deprecated on Debian, and no longer reliable. Ignoring.\n"
     ]
    },
    {
     "name": "stdout",
     "output_type": "stream",
     "text": [
      "⏳ Scheduler is running... Press Ctrl+C to exit.\n",
      "❌ Scheduler stopped.\n"
     ]
    }
   ],
   "source": [
    "from apscheduler.schedulers.background import BackgroundScheduler\n",
    "import cloudscraper\n",
    "from bs4 import BeautifulSoup\n",
    "import pandas as pd\n",
    "import time\n",
    "\n",
    "# Scraping function\n",
    "def scrape_bbb():\n",
    "    print(\"🚀 Starting BBB scraping task...\")\n",
    "\n",
    "    # Base URL with pagination\n",
    "    base_url = \"https://www.bbb.org/search?city=new-york&find_country=USA&find_entity=10035-000&find_id=1304_3100-9100&find_latlng=40.762801%2C-73.977818&find_loc=New+York%2C+NY&find_text=General+Contractor&find_type=Category&page={}&sort=Distance&state=NY\"\n",
    "\n",
    "    scraper = cloudscraper.create_scraper()\n",
    "    headers = {\n",
    "        \"User-Agent\": \"Mozilla/5.0 (Windows NT 10.0; Win64; x64) AppleWebKit/537.36 (KHTML, like Gecko) Chrome/58.0.3029.110 Safari/537.36\"\n",
    "    }\n",
    "\n",
    "    max_pages = 5  # Adjust as needed\n",
    "    all_data = []\n",
    "\n",
    "    for page in range(1, max_pages + 1):\n",
    "        print(f\"📄 Scraping page {page}...\")\n",
    "\n",
    "        response = scraper.get(base_url.format(page), headers=headers)\n",
    "        if response.status_code != 200:\n",
    "            print(f\"❌ Failed to fetch page {page}. Status Code: {response.status_code}\")\n",
    "            break\n",
    "\n",
    "        soup = BeautifulSoup(response.text, \"html.parser\")\n",
    "        main_div = soup.find(\"div\", class_=\"stack stack-space-20\")\n",
    "        if not main_div:\n",
    "            print(\"⚠️ No more results found. Stopping.\")\n",
    "            break\n",
    "\n",
    "        contractors = main_div.find_all(\"div\", class_=\"card result-card\")\n",
    "        if not contractors:\n",
    "            print(\"⚠️ No more contractors found. Ending pagination.\")\n",
    "            break\n",
    "\n",
    "        for contractor in contractors:\n",
    "            try:\n",
    "                name = contractor.find(\"h3\").find(\"a\", class_=\"text-blue-medium\").text.strip()\n",
    "            except AttributeError:\n",
    "                name = \"N/A\"\n",
    "\n",
    "            try:\n",
    "                company = contractor.find(\"span\").text.strip()\n",
    "            except AttributeError:\n",
    "                company = \"N/A\"\n",
    "\n",
    "            try:\n",
    "                industry = contractor.find(\"p\", class_=\"bds-body text-size-4 text-gray-70\").text.strip()\n",
    "            except AttributeError:\n",
    "                industry = \"N/A\"\n",
    "\n",
    "            try:\n",
    "                contact_tag = contractor.find(\"a\", class_=\"text-black\")\n",
    "                contact = contact_tag[\"href\"].replace(\"tel:\", \"\").strip() if contact_tag and \"href\" in contact_tag.attrs else \"N/A\"\n",
    "            except AttributeError:\n",
    "                contact = \"N/A\"\n",
    "\n",
    "            try:\n",
    "                location = contractor.find(\"p\", class_=\"bds-body text-size-5 text-gray-70\").text.strip()\n",
    "            except AttributeError:\n",
    "                location = \"N/A\"\n",
    "\n",
    "            all_data.append({\n",
    "                \"Name\": name,\n",
    "                \"Company\": company,\n",
    "                \"Industry\": industry,\n",
    "                \"Contact\": contact,\n",
    "                \"Location\": location\n",
    "            })\n",
    "\n",
    "        time.sleep(2)  # Prevent getting blocked\n",
    "\n",
    "    df = pd.DataFrame(all_data)\n",
    "    df.to_csv(\"bbb_contractors_scheduled.csv\", index=False)\n",
    "    print(f\"✅ Scraped {len(df)} contractors. Data saved to 'bbb_contractors_scheduled.csv'.\")\n",
    "\n",
    "# APScheduler setup\n",
    "scheduler = BackgroundScheduler()\n",
    "scheduler.add_job(scrape_bbb, 'interval', hours=6)  # Runs every 6 hours\n",
    "scheduler.start()\n",
    "\n",
    "# Keep script running\n",
    "try:\n",
    "    print(\"⏳ Scheduler is running... Press Ctrl+C to exit.\")\n",
    "    while True:\n",
    "        time.sleep(10)\n",
    "except (KeyboardInterrupt, SystemExit):\n",
    "    scheduler.shutdown()\n",
    "    print(\"❌ Scheduler stopped.\")\n"
   ]
  }
 ],
 "metadata": {
  "language_info": {
   "name": "python"
  }
 },
 "nbformat": 4,
 "nbformat_minor": 2
}
